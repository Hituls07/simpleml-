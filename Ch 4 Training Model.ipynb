{
 "cells": [
  {
   "cell_type": "code",
   "execution_count": 1,
   "metadata": {},
   "outputs": [],
   "source": [
    "import numpy as np \n",
    "import pandas as pd \n",
    "import random "
   ]
  },
  {
   "cell_type": "code",
   "execution_count": 2,
   "metadata": {},
   "outputs": [],
   "source": [
    "x = np.random.rand(100,1)"
   ]
  },
  {
   "cell_type": "code",
   "execution_count": 47,
   "metadata": {},
   "outputs": [],
   "source": [
    "y =  4 + 3*x + np.random.randn(100,1)"
   ]
  },
  {
   "cell_type": "code",
   "execution_count": 26,
   "metadata": {},
   "outputs": [],
   "source": [
    "x_b = np.c_[np.ones((100,1)), x]"
   ]
  },
  {
   "cell_type": "code",
   "execution_count": 48,
   "metadata": {},
   "outputs": [
    {
     "data": {
      "text/plain": [
       "array([[3.90894905],\n",
       "       [3.04113525]])"
      ]
     },
     "execution_count": 48,
     "metadata": {},
     "output_type": "execute_result"
    }
   ],
   "source": [
    "np.linalg.inv(x_b.T.dot(x_b)).dot(x_b.T).dot(y)"
   ]
  },
  {
   "cell_type": "code",
   "execution_count": 54,
   "metadata": {},
   "outputs": [
    {
     "data": {
      "text/plain": [
       "[array([6.63709079]),\n",
       " array([5.04398875]),\n",
       " array([6.30686164]),\n",
       " array([6.68987921]),\n",
       " array([5.13094958]),\n",
       " array([4.9175821]),\n",
       " array([6.75705898]),\n",
       " array([6.78644794]),\n",
       " array([5.98026072]),\n",
       " array([4.92033189]),\n",
       " array([4.02073864]),\n",
       " array([5.37537202]),\n",
       " array([4.76564511]),\n",
       " array([5.48481982]),\n",
       " array([6.89862657]),\n",
       " array([5.28509878]),\n",
       " array([6.76431397]),\n",
       " array([5.8047342]),\n",
       " array([6.19695001]),\n",
       " array([6.08693536]),\n",
       " array([6.86383724]),\n",
       " array([6.70462229]),\n",
       " array([4.48327745]),\n",
       " array([5.22886582]),\n",
       " array([5.23887728]),\n",
       " array([5.44981773]),\n",
       " array([5.63348714]),\n",
       " array([4.83512777]),\n",
       " array([5.88957931]),\n",
       " array([5.78324171]),\n",
       " array([5.44870456]),\n",
       " array([5.57679486]),\n",
       " array([3.9575205]),\n",
       " array([6.78799345]),\n",
       " array([4.36163771]),\n",
       " array([6.18629157]),\n",
       " array([4.78260115]),\n",
       " array([6.49791888]),\n",
       " array([6.82769908]),\n",
       " array([6.75995657]),\n",
       " array([6.684806]),\n",
       " array([6.50981987]),\n",
       " array([5.91095745]),\n",
       " array([4.88612128]),\n",
       " array([6.19444511]),\n",
       " array([4.0855685]),\n",
       " array([6.93084768]),\n",
       " array([5.34061808]),\n",
       " array([4.31358407]),\n",
       " array([6.15836394]),\n",
       " array([6.55926799]),\n",
       " array([4.12823965]),\n",
       " array([4.0679702]),\n",
       " array([6.81920266]),\n",
       " array([4.58604245]),\n",
       " array([6.02783521]),\n",
       " array([3.98192411]),\n",
       " array([4.97320387]),\n",
       " array([5.71179118]),\n",
       " array([4.06935058]),\n",
       " array([4.65422976]),\n",
       " array([5.07662681]),\n",
       " array([6.58673453]),\n",
       " array([6.70591506]),\n",
       " array([4.08393591]),\n",
       " array([6.18659413]),\n",
       " array([4.07792317]),\n",
       " array([5.11121704]),\n",
       " array([4.77897486]),\n",
       " array([5.49695556]),\n",
       " array([6.35002195]),\n",
       " array([4.56957177]),\n",
       " array([4.90745891]),\n",
       " array([4.94517743]),\n",
       " array([5.88024706]),\n",
       " array([4.63297583]),\n",
       " array([5.71147837]),\n",
       " array([5.09342716]),\n",
       " array([5.56450397]),\n",
       " array([4.84140891]),\n",
       " array([5.87367647]),\n",
       " array([4.32110304]),\n",
       " array([4.65602206]),\n",
       " array([5.4565406]),\n",
       " array([4.43519732]),\n",
       " array([5.50555126]),\n",
       " array([5.49002944]),\n",
       " array([5.99768564]),\n",
       " array([5.56029035]),\n",
       " array([5.59833603]),\n",
       " array([4.85956859]),\n",
       " array([5.12239387]),\n",
       " array([5.58010648]),\n",
       " array([6.63850201]),\n",
       " array([6.11798123]),\n",
       " array([5.29427315]),\n",
       " array([6.65932236]),\n",
       " array([4.67745564]),\n",
       " array([6.26610201]),\n",
       " array([4.2302613])]"
      ]
     },
     "execution_count": 54,
     "metadata": {},
     "output_type": "execute_result"
    }
   ],
   "source": [
    "[np.linalg.inv(x_b.T.dot(x_b)).dot(x_b.T).dot(y).T.dot(x_b[i]) for i in range(0, len(y))]\n",
    "    "
   ]
  },
  {
   "cell_type": "code",
   "execution_count": 51,
   "metadata": {},
   "outputs": [
    {
     "data": {
      "text/plain": [
       "array([1.        , 0.89708004])"
      ]
     },
     "execution_count": 51,
     "metadata": {},
     "output_type": "execute_result"
    }
   ],
   "source": [
    "x_b[0]"
   ]
  },
  {
   "cell_type": "code",
   "execution_count": null,
   "metadata": {},
   "outputs": [],
   "source": []
  }
 ],
 "metadata": {
  "kernelspec": {
   "display_name": "Python 3",
   "language": "python",
   "name": "python3"
  },
  "language_info": {
   "codemirror_mode": {
    "name": "ipython",
    "version": 3
   },
   "file_extension": ".py",
   "mimetype": "text/x-python",
   "name": "python",
   "nbconvert_exporter": "python",
   "pygments_lexer": "ipython3",
   "version": "3.6.5"
  }
 },
 "nbformat": 4,
 "nbformat_minor": 2
}
