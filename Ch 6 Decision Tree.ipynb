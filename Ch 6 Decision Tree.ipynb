{
 "cells": [
  {
   "cell_type": "code",
   "execution_count": 1,
   "metadata": {},
   "outputs": [],
   "source": [
    "import numpy as np\n",
    "import pandas as pd\n",
    "import matplotlib.pyplot as plt\n",
    "from sklearn.base import BaseEstimator , TransformerMixin\n",
    "from sklearn.pipeline import Pipeline \n",
    "from sklearn.preprocessing import StandardScaler,PolynomialFeatures\n",
    "from sklearn.model_selection import GridSearchCV, cross_val_score , cross_val_predict , cross_validate,train_test_split,StratifiedKFold,ShuffleSplit\n",
    "from sklearn.metrics import classification_report , classification,accuracy_score ,roc_auc_score"
   ]
  },
  {
   "cell_type": "code",
   "execution_count": 2,
   "metadata": {},
   "outputs": [],
   "source": [
    "from sklearn.tree import DecisionTreeClassifier, export_graphviz"
   ]
  },
  {
   "cell_type": "code",
   "execution_count": 3,
   "metadata": {},
   "outputs": [],
   "source": [
    "from sklearn.datasets import load_iris, make_moons"
   ]
  },
  {
   "cell_type": "code",
   "execution_count": 4,
   "metadata": {},
   "outputs": [],
   "source": [
    "%matplotlib inline"
   ]
  },
  {
   "cell_type": "code",
   "execution_count": 4,
   "metadata": {},
   "outputs": [],
   "source": [
    "data,target= load_iris()['data'][:, 2:], load_iris()['target']\n",
    "target_names, feature_names =  load_iris()['target_names'] , load_iris()['feature_names']"
   ]
  },
  {
   "cell_type": "code",
   "execution_count": 11,
   "metadata": {},
   "outputs": [
    {
     "data": {
      "text/plain": [
       "2    50\n",
       "1    50\n",
       "0    50\n",
       "dtype: int64"
      ]
     },
     "execution_count": 11,
     "metadata": {},
     "output_type": "execute_result"
    }
   ],
   "source": [
    "pd.Series(target).value_counts()"
   ]
  },
  {
   "cell_type": "code",
   "execution_count": null,
   "metadata": {},
   "outputs": [],
   "source": []
  },
  {
   "cell_type": "code",
   "execution_count": 6,
   "metadata": {},
   "outputs": [],
   "source": [
    "dt = DecisionTreeClassifier(max_depth= 2)\n",
    "model_tree = dt.fit(data, target)"
   ]
  },
  {
   "cell_type": "code",
   "execution_count": 7,
   "metadata": {},
   "outputs": [],
   "source": [
    "def plot_data(x, y): \n",
    "    plt.plot(x[:, 0][y == 0], x[:,1][y == 0], 'bs')\n",
    "    plt.plot(x[:, 0][y == 1], x[:,1][y == 1], 'g^')\n",
    "    plt.plot(x[:, 0][y == 2], x[:,1][y == 2], 'r.')\n",
    "    plt.axis([x[:, 0].min(),x[:, 0].max(),x[:, 1].min(),x[:, 1].max()])\n",
    "    plt.grid(True)\n",
    "    plt.xlabel(r'$X1$' , fontsize = 15)\n",
    "    plt.ylabel(r'$Y1$', fontsize = 15, rotation = 0)"
   ]
  },
  {
   "cell_type": "code",
   "execution_count": 8,
   "metadata": {},
   "outputs": [],
   "source": [
    "def plot_density_fun(x, y , model):\n",
    "    h = 0.02 #stepsize in mesh \n",
    "    x0 = np.arange(x[:, 0].min() - 0.5, x[:, 0].max() + 0.5 , 0.2)\n",
    "    x1 = np.arange(x[: , 1].min() - 0.5, x[:, 1].max() + 0.5 , 0.2) \n",
    "    xx, yy = np.meshgrid(x0, x1)\n",
    "    X = np.c_[xx.ravel(), yy.ravel()]\n",
    "    y_pred = model.predict(X).ravel().reshape(xx.shape)\n",
    "    #y_decision_fun = model.decision_function(X).ravel().reshape(xx.shape)\n",
    "    plt.contourf(xx, yy , y_pred)\n",
    "    #plt.contourf(xx,yy, y_decision_fun)"
   ]
  },
  {
   "cell_type": "code",
   "execution_count": 9,
   "metadata": {},
   "outputs": [
    {
     "data": {
      "image/png": "[encoded data removed]",
      "text/plain": [
       "<Figure size 432x288 with 1 Axes>"
      ]
     },
     "metadata": {},
     "output_type": "display_data"
    }
   ],
   "source": [
    "plot_density_fun(data,target, model_tree)\n",
    "plot_data(data,target)"
   ]
  },
  {
   "cell_type": "code",
   "execution_count": 10,
   "metadata": {},
   "outputs": [],
   "source": [
    "export_graphviz(\n",
    "        model_tree\n",
    "     ,feature_names = feature_names[2:]\n",
    "     ,class_names = target_names\n",
    "     ,rounded = True\n",
    "     , filled = True\n",
    "    ,out_file = 'iris_tree.dot'\n",
    "               )"
   ]
  },
  {
   "cell_type": "markdown",
   "metadata": {},
   "source": [
    "# Exercise"
   ]
  },
  {
   "cell_type": "code",
   "execution_count": 11,
   "metadata": {},
   "outputs": [],
   "source": [
    "data, target = make_moons(n_samples= 10000, noise= 0.4)"
   ]
  },
  {
   "cell_type": "code",
   "execution_count": 12,
   "metadata": {},
   "outputs": [],
   "source": [
    "x_train , x_test, y_train, y_test = train_test_split(data, target , test_size = 0.3, random_state = 42)"
   ]
  },
  {
   "cell_type": "code",
   "execution_count": 13,
   "metadata": {},
   "outputs": [],
   "source": [
    "DT = DecisionTreeClassifier(random_state= 42)"
   ]
  },
  {
   "cell_type": "code",
   "execution_count": 14,
   "metadata": {},
   "outputs": [
    {
     "data": {
      "text/plain": [
       "GridSearchCV(cv=3, error_score='raise',\n",
       "       estimator=DecisionTreeClassifier(class_weight=None, criterion='gini', max_depth=None,\n",
       "            max_features=None, max_leaf_nodes=None,\n",
       "            min_impurity_decrease=0.0, min_impurity_split=None,\n",
       "            min_samples_leaf=1, min_samples_split=2,\n",
       "            min_weight_fraction_leaf=0.0, presort=False, random_state=42,\n",
       "            splitter='best'),\n",
       "       fit_params=None, iid=True, n_jobs=1,\n",
       "       param_grid={'max_depth': [2, 3, 4], 'min_samples_leaf': [2, 5, 7], 'criterion': ['gini', 'entropy'], 'max_leaf_nodes': [3, 5, 7, 10]},\n",
       "       pre_dispatch='2*n_jobs', refit=True, return_train_score='warn',\n",
       "       scoring=None, verbose=0)"
      ]
     },
     "execution_count": 14,
     "metadata": {},
     "output_type": "execute_result"
    }
   ],
   "source": [
    "para = {'max_depth': [2,3,4] \n",
    "       ,'min_samples_leaf':[2,5,7]\n",
    "        ,'criterion':['gini', 'entropy']\n",
    "        ,'max_leaf_nodes': [3,5,7,10]\n",
    "       }\n",
    "grid = GridSearchCV(DT,param_grid= para,cv= 3)\n",
    "grid.fit(x_train,y_train)"
   ]
  },
  {
   "cell_type": "code",
   "execution_count": 15,
   "metadata": {},
   "outputs": [
    {
     "data": {
      "text/plain": [
       "{'criterion': 'gini',\n",
       " 'max_depth': 4,\n",
       " 'max_leaf_nodes': 10,\n",
       " 'min_samples_leaf': 2}"
      ]
     },
     "execution_count": 15,
     "metadata": {},
     "output_type": "execute_result"
    }
   ],
   "source": [
    "grid.best_params_"
   ]
  },
  {
   "cell_type": "code",
   "execution_count": 16,
   "metadata": {},
   "outputs": [],
   "source": [
    "DT_best = DecisionTreeClassifier(random_state= 42 ,criterion= 'gini', max_depth= 2, max_leaf_nodes= 5 , min_samples_leaf= 2 )\n",
    "DT_best.fit(x_train, y_train)\n",
    "y_pred = DT_best.predict(x_test)"
   ]
  },
  {
   "cell_type": "code",
   "execution_count": 17,
   "metadata": {},
   "outputs": [
    {
     "name": "stdout",
     "output_type": "stream",
     "text": [
      "             precision    recall  f1-score   support\n",
      "\n",
      "          0       0.84      0.87      0.85      1490\n",
      "          1       0.86      0.83      0.85      1510\n",
      "\n",
      "avg / total       0.85      0.85      0.85      3000\n",
      "\n"
     ]
    }
   ],
   "source": [
    "print(classification_report(y_test, y_pred)) "
   ]
  },
  {
   "cell_type": "code",
   "execution_count": 18,
   "metadata": {},
   "outputs": [
    {
     "data": {
      "text/plain": [
       "0.8496666666666667"
      ]
     },
     "execution_count": 18,
     "metadata": {},
     "output_type": "execute_result"
    }
   ],
   "source": [
    "accuracy_score(y_test, y_pred)"
   ]
  },
  {
   "cell_type": "markdown",
   "metadata": {},
   "source": [
    "# Excersice 2 "
   ]
  },
  {
   "cell_type": "code",
   "execution_count": 22,
   "metadata": {},
   "outputs": [],
   "source": [
    "from sklearn.base import clone"
   ]
  },
  {
   "cell_type": "code",
   "execution_count": 58,
   "metadata": {},
   "outputs": [],
   "source": [
    "n_trees = 1000\n",
    "instances = 100 \n",
    "sf = ShuffleSplit(n_splits= n_trees , test_size= len(x_train)- 100 , random_state= 42)\n",
    "mini_splits = []\n",
    "for train_index, test_index in sf.split(x_train):\n",
    "    mini_splits.append((x_train[train_index], y_train[train_index]))"
   ]
  },
  {
   "cell_type": "code",
   "execution_count": 56,
   "metadata": {},
   "outputs": [],
   "source": [
    "forest = [clone(grid.best_estimator_) for _ in range(n_trees)]"
   ]
  },
  {
   "cell_type": "code",
   "execution_count": 62,
   "metadata": {},
   "outputs": [
    {
     "data": {
      "text/plain": [
       "0.7995140000000001"
      ]
     },
     "execution_count": 62,
     "metadata": {},
     "output_type": "execute_result"
    }
   ],
   "source": [
    "score = []\n",
    "for tree, (x_train_mini, y_train_mini) in zip(forest, mini_splits):\n",
    "    tree.fit(x_train_mini, y_train_mini)\n",
    "    y_pred = tree.predict(x_test)\n",
    "    score.append(accuracy_score(y_test, y_pred)) \n",
    "np.mean(score)"
   ]
  },
  {
   "cell_type": "markdown",
   "metadata": {},
   "source": [
    "Random Forest "
   ]
  },
  {
   "cell_type": "code",
   "execution_count": 72,
   "metadata": {},
   "outputs": [],
   "source": [
    "y_pred_rf = np.empty([n_trees, len(x_test)], dtype = np.uint8)\n",
    "for index,tree in enumerate(forest):\n",
    "    y_pred_rf[index] = tree.predict(x_test)\n"
   ]
  },
  {
   "cell_type": "code",
   "execution_count": 89,
   "metadata": {},
   "outputs": [
    {
     "data": {
      "text/plain": [
       "0.856"
      ]
     },
     "execution_count": 89,
     "metadata": {},
     "output_type": "execute_result"
    }
   ],
   "source": [
    "from scipy.stats import mode\n",
    "\n",
    "y_pred_rf_result, count = mode(y_pred_rf,axis = 0)\n",
    "accuracy_score(y_test, y_pred_rf_result.reshape(-1))"
   ]
  },
  {
   "cell_type": "code",
   "execution_count": null,
   "metadata": {},
   "outputs": [],
   "source": []
  }
 ],
 "metadata": {
  "kernelspec": {
   "display_name": "Python 3",
   "language": "python",
   "name": "python3"
  },
  "language_info": {
   "codemirror_mode": {
    "name": "ipython",
    "version": 3
   },
   "file_extension": ".py",
   "mimetype": "text/x-python",
   "name": "python",
   "nbconvert_exporter": "python",
   "pygments_lexer": "ipython3",
   "version": "3.6.8"
  }
 },
 "nbformat": 4,
 "nbformat_minor": 2
}
