{
 "cells": [
  {
   "cell_type": "code",
   "execution_count": 1,
   "metadata": {},
   "outputs": [],
   "source": [
    "import numpy as np \n",
    "import pandas as pd\n",
    "import matplotlib.pyplot as plt\n",
    "import pdb"
   ]
  },
  {
   "cell_type": "code",
   "execution_count": 2,
   "metadata": {},
   "outputs": [],
   "source": [
    "%matplotlib inline"
   ]
  },
  {
   "cell_type": "code",
   "execution_count": 3,
   "metadata": {},
   "outputs": [],
   "source": [
    "training_data = [\n",
    "    ['Green', 3, 'Apple'],\n",
    "    ['Yellow', 3, 'Apple'],\n",
    "    ['Red', 1, 'Grape'],\n",
    "    ['Red', 1, 'Grape'],\n",
    "    ['Yellow', 3, 'Lemon'],\n",
    "]\n",
    "header = [\"color\", \"diameter\", \"label\"]"
   ]
  },
  {
   "cell_type": "code",
   "execution_count": 4,
   "metadata": {},
   "outputs": [],
   "source": [
    " def unique_valeus(rows):\n",
    "        return [set([row[-1] for row in rows])][0]"
   ]
  },
  {
   "cell_type": "code",
   "execution_count": 5,
   "metadata": {
    "scrolled": false
   },
   "outputs": [
    {
     "data": {
      "text/plain": [
       "{'Apple', 'Grape', 'Lemon'}"
      ]
     },
     "execution_count": 5,
     "metadata": {},
     "output_type": "execute_result"
    }
   ],
   "source": [
    "unique_valeus(training_data)"
   ]
  },
  {
   "cell_type": "code",
   "execution_count": 6,
   "metadata": {},
   "outputs": [],
   "source": [
    "def class_counts(rows):\n",
    "    count = {}\n",
    "    for label in unique_valeus(rows):\n",
    "        count[label] = 0\n",
    "        for row in range(len(rows)):\n",
    "            if label == rows[row][-1]:\n",
    "                count[label] += 1 \n",
    "    return count"
   ]
  },
  {
   "cell_type": "code",
   "execution_count": 7,
   "metadata": {},
   "outputs": [
    {
     "data": {
      "text/plain": [
       "{'Apple': 2, 'Grape': 2, 'Lemon': 1}"
      ]
     },
     "execution_count": 7,
     "metadata": {},
     "output_type": "execute_result"
    }
   ],
   "source": [
    "class_counts(training_data)"
   ]
  },
  {
   "cell_type": "code",
   "execution_count": 8,
   "metadata": {},
   "outputs": [],
   "source": [
    "def col_numric_YN(value):\n",
    "    return isinstance(value, int) or isinstance(value, float)"
   ]
  },
  {
   "cell_type": "code",
   "execution_count": null,
   "metadata": {},
   "outputs": [],
   "source": []
  },
  {
   "cell_type": "code",
   "execution_count": 9,
   "metadata": {},
   "outputs": [
    {
     "data": {
      "text/plain": [
       "False"
      ]
     },
     "execution_count": 9,
     "metadata": {},
     "output_type": "execute_result"
    }
   ],
   "source": [
    "col_numric_YN('Red')"
   ]
  },
  {
   "cell_type": "code",
   "execution_count": 10,
   "metadata": {},
   "outputs": [],
   "source": [
    "class Question:\n",
    "    def __init__(self,col_num ,value):\n",
    "        self.col_num = col_num\n",
    "        self.value = value\n",
    "    \n",
    "    def match(self, examples):\n",
    "        if col_numric_YN(self.value):\n",
    "            return examples[self.col_num] >= self.value\n",
    "        else: \n",
    "            return examples[self.col_num] == self.value\n",
    "\n",
    "    def __repr__(self):\n",
    "        condition = '=='\n",
    "        if col_numric_YN(self.value):\n",
    "            condition = '>='\n",
    "        return 'Is {} {} {}'.format(header[self.col_num], condition, str(self.value))\n"
   ]
  },
  {
   "cell_type": "code",
   "execution_count": 11,
   "metadata": {},
   "outputs": [
    {
     "name": "stdout",
     "output_type": "stream",
     "text": [
      "Is color == Red\n"
     ]
    },
    {
     "data": {
      "text/plain": [
       "True"
      ]
     },
     "execution_count": 11,
     "metadata": {},
     "output_type": "execute_result"
    }
   ],
   "source": [
    "Red = Question(0, 'Red')\n",
    "print(Red)\n",
    "Red.match(training_data[2])"
   ]
  },
  {
   "cell_type": "code",
   "execution_count": 12,
   "metadata": {},
   "outputs": [],
   "source": [
    "def gini(rows):\n",
    "    impurity = 1\n",
    "    uniques = class_counts(rows)\n",
    "    for label in uniques:\n",
    "        prob_of_lbl = uniques[label] / int(len(rows))\n",
    "        impurity -= (prob_of_lbl) ** 2\n",
    "        #pdb.set_trace()\n",
    "    return impurity"
   ]
  },
  {
   "cell_type": "code",
   "execution_count": 13,
   "metadata": {},
   "outputs": [],
   "source": [
    "a = [['Yellow', 3, 'Apple'],\n",
    " ['Red', 1, 'Grape'],\n",
    " ['Red', 1, 'Grape'],\n",
    " ['Yellow', 3, 'Lemon']]"
   ]
  },
  {
   "cell_type": "code",
   "execution_count": 14,
   "metadata": {},
   "outputs": [],
   "source": [
    "def partition(rows , question):\n",
    "    true_answer, false_answer = [], []\n",
    "    for row in rows:\n",
    "        if question.match(row):\n",
    "            true_answer.append(row)\n",
    "        else:\n",
    "            false_answer.append(row)\n",
    "    return true_answer , false_answer"
   ]
  },
  {
   "cell_type": "code",
   "execution_count": 15,
   "metadata": {},
   "outputs": [
    {
     "data": {
      "text/plain": [
       "([['Red', 1, 'Grape'], ['Red', 1, 'Grape']],\n",
       " [['Green', 3, 'Apple'], ['Yellow', 3, 'Apple'], ['Yellow', 3, 'Lemon']])"
      ]
     },
     "execution_count": 15,
     "metadata": {},
     "output_type": "execute_result"
    }
   ],
   "source": [
    "partition(training_data, Red)"
   ]
  },
  {
   "cell_type": "code",
   "execution_count": 16,
   "metadata": {},
   "outputs": [],
   "source": [
    "def weighted_prob(row_true, row_false):\n",
    "    total_length = len(row_true) + len(row_false)\n",
    "    w_true = float(len(row_true) / total_length)\n",
    "    w_false = 1 - w_true\n",
    "    score = w_true * gini(row_true) + w_false * gini(row_false)\n",
    "    return score"
   ]
  },
  {
   "cell_type": "code",
   "execution_count": 17,
   "metadata": {},
   "outputs": [
    {
     "data": {
      "text/plain": [
       "0.26666666666666666"
      ]
     },
     "execution_count": 17,
     "metadata": {},
     "output_type": "execute_result"
    }
   ],
   "source": [
    "true_row , false_row = partition(training_data, Red)\n",
    "weighted_prob(true_row, false_row)"
   ]
  },
  {
   "cell_type": "code",
   "execution_count": 22,
   "metadata": {},
   "outputs": [],
   "source": [
    "def info_gain(rows,question, current_gini_score):\n",
    "    #current_gini_score = gini(rows)\n",
    "    true_row , false_row = partition(rows, question)\n",
    "    #pdb.set_trace()\n",
    "    return current_gini_score - weighted_prob(true_row, false_row)"
   ]
  },
  {
   "cell_type": "code",
   "execution_count": 34,
   "metadata": {},
   "outputs": [
    {
     "data": {
      "text/plain": [
       "0.36333333333333334"
      ]
     },
     "execution_count": 34,
     "metadata": {},
     "output_type": "execute_result"
    }
   ],
   "source": [
    "info_gain(training_data, Red,0.63)"
   ]
  },
  {
   "cell_type": "code",
   "execution_count": 25,
   "metadata": {},
   "outputs": [],
   "source": [
    "def find_best_split(rows):\n",
    "    n_features = len(rows) - 1\n",
    "    current_gini_score = gini(rows)\n",
    "    best_feature = None\n",
    "    best_gain = 0\n",
    "    for i in range(n_features - 1):\n",
    "        values = set([row[i] for row in rows])\n",
    "        for val in values:\n",
    "            que =Question(i, val)\n",
    "            branch_gain = info_gain(rows,que , current_gini_score)\n",
    "            #pdb.set_trace()\n",
    "            if branch_gain > best_gain:\n",
    "                best_gain = branch_gain\n",
    "                best_feature = que\n",
    "    return best_feature"
   ]
  },
  {
   "cell_type": "code",
   "execution_count": 26,
   "metadata": {
    "scrolled": true
   },
   "outputs": [
    {
     "data": {
      "text/plain": [
       "Is color == Red"
      ]
     },
     "execution_count": 26,
     "metadata": {},
     "output_type": "execute_result"
    }
   ],
   "source": [
    "find_best_split(training_data)"
   ]
  },
  {
   "cell_type": "code",
   "execution_count": null,
   "metadata": {},
   "outputs": [],
   "source": []
  },
  {
   "cell_type": "code",
   "execution_count": null,
   "metadata": {},
   "outputs": [],
   "source": []
  },
  {
   "cell_type": "code",
   "execution_count": null,
   "metadata": {},
   "outputs": [],
   "source": []
  },
  {
   "cell_type": "code",
   "execution_count": 35,
   "metadata": {},
   "outputs": [],
   "source": [
    "def factorial(num):\n",
    "    if num == 1:\n",
    "        return 1\n",
    "    return num * factorial(num - 1)\n",
    "    "
   ]
  },
  {
   "cell_type": "code",
   "execution_count": 36,
   "metadata": {},
   "outputs": [
    {
     "data": {
      "text/plain": [
       "24"
      ]
     },
     "execution_count": 36,
     "metadata": {},
     "output_type": "execute_result"
    }
   ],
   "source": [
    "factorial(4)"
   ]
  },
  {
   "cell_type": "code",
   "execution_count": 63,
   "metadata": {},
   "outputs": [],
   "source": [
    "def HCF(num1,num2):\n",
    "    small_num = (num1,num2)[num1 > num2]\n",
    "    large_num = (num1,num2)[small_num == num1]\n",
    "    if large_num % small_num == 0:\n",
    "        return small_num\n",
    "    new_num = small_num - 1\n",
    "    #pdb.set_trace()\n",
    "    while small_num % new_num != 0:\n",
    "        new_num -= 1\n",
    "    return HCF(new_num,large_num)\n"
   ]
  },
  {
   "cell_type": "code",
   "execution_count": 64,
   "metadata": {},
   "outputs": [
    {
     "data": {
      "text/plain": [
       "1"
      ]
     },
     "execution_count": 64,
     "metadata": {},
     "output_type": "execute_result"
    }
   ],
   "source": [
    "HCF(12,14)"
   ]
  },
  {
   "cell_type": "code",
   "execution_count": 61,
   "metadata": {},
   "outputs": [],
   "source": [
    "small_num = 12\n",
    "    #pdb.set_trace()\n",
    "while 14 % small_num != 0:\n",
    "    if new_num -= 1"
   ]
  },
  {
   "cell_type": "code",
   "execution_count": null,
   "metadata": {},
   "outputs": [],
   "source": []
  }
 ],
 "metadata": {
  "kernelspec": {
   "display_name": "Python 3",
   "language": "python",
   "name": "python3"
  },
  "language_info": {
   "codemirror_mode": {
    "name": "ipython",
    "version": 3
   },
   "file_extension": ".py",
   "mimetype": "text/x-python",
   "name": "python",
   "nbconvert_exporter": "python",
   "pygments_lexer": "ipython3",
   "version": "3.6.5"
  }
 },
 "nbformat": 4,
 "nbformat_minor": 2
}
